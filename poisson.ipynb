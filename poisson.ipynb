{
 "cells": [
  {
   "cell_type": "markdown",
   "id": "2758dcc4",
   "metadata": {},
   "source": [
    "# PoissonML Notebook\n",
    "This Jupyter notebook serves as the Python sandbox for developing the ML model. \n",
    "## TODO"
   ]
  },
  {
   "cell_type": "markdown",
   "id": "d6c07f80",
   "metadata": {},
   "source": [
    "Compile"
   ]
  },
  {
   "cell_type": "code",
   "execution_count": 1,
   "id": "1584c892",
   "metadata": {},
   "outputs": [
    {
     "name": "stdout",
     "output_type": "stream",
     "text": [
      "/bin/bash: line 1: mpic++: command not found\n"
     ]
    }
   ],
   "source": [
    "!mpic++ -O3 -march=native -funroll-loops -o domain_decomp_heat domain_decomp_heat.cpp"
   ]
  },
  {
   "cell_type": "code",
   "execution_count": null,
   "id": "4687c7e3",
   "metadata": {},
   "outputs": [],
   "source": [
    "import subprocess\n",
    "import sys\n",
    "import time\n",
    "\n",
    "def run_mpi_simulation(num_processes, num_simulations):\n",
    "    print(f\"Starting {num_simulations} simulations with {num_processes} processes...\")\n",
    "    start_time = time.time()\n",
    "    \n",
    "    process = subprocess.Popen(['mpirun', '-np', str(num_processes), \n",
    "                               '--bind-to', 'core', './domain_decomp_heat', str(num_simulations)], \n",
    "                              stdout=subprocess.PIPE, \n",
    "                              stderr=subprocess.STDOUT, \n",
    "                              universal_newlines=True)\n",
    "    \n",
    "    for line in process.stdout:\n",
    "        print(line, end='')\n",
    "        sys.stdout.flush()\n",
    "    \n",
    "    end_time = time.time()\n",
    "    print(f\"\\nCompleted in {end_time - start_time:.2f} seconds\")\n",
    "    return process.returncode\n",
    "\n",
    "# Usage\n",
    "run_mpi_simulation(4, 100)"
   ]
  }
 ],
 "metadata": {
  "kernelspec": {
   "display_name": "Python 3",
   "language": "python",
   "name": "python3"
  },
  "language_info": {
   "codemirror_mode": {
    "name": "ipython",
    "version": 3
   },
   "file_extension": ".py",
   "mimetype": "text/x-python",
   "name": "python",
   "nbconvert_exporter": "python",
   "pygments_lexer": "ipython3",
   "version": "3.11.11"
  }
 },
 "nbformat": 4,
 "nbformat_minor": 5
}
